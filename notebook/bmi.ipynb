{
 "cells": [
  {
   "cell_type": "code",
   "execution_count": null,
   "metadata": {},
   "outputs": [],
   "source": [
    "# check sorted neurons\n",
    "from nctrl.unit import Unit\n",
    "\n",
    "unit = Unit()\n",
    "unit.load()\n",
    "unit.plot()"
   ]
  },
  {
   "cell_type": "code",
   "execution_count": null,
   "metadata": {},
   "outputs": [],
   "source": [
    "unit.simulate(unit_id=1)"
   ]
  },
  {
   "cell_type": "code",
   "execution_count": null,
   "metadata": {},
   "outputs": [],
   "source": [
    "# start bmi gui\n",
    "from nctrl.core import NCtrl\n",
    "\n",
    "bmi = NCtrl()\n",
    "bmi.show()"
   ]
  },
  {
   "cell_type": "code",
   "execution_count": null,
   "metadata": {},
   "outputs": [],
   "source": [
    "# if the device is busy\n",
    "!fuser /dev/xillybus_fet_clf_32 -k"
   ]
  }
 ],
 "metadata": {
  "language_info": {
   "name": "python"
  }
 },
 "nbformat": 4,
 "nbformat_minor": 2
}
